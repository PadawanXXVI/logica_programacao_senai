{
 "cells": [
  {
   "cell_type": "markdown",
   "metadata": {},
   "source": [
    "# Curso Lógica de Progamação (12.09.24)\n",
    "\n",
    "## Criando variáveis\n",
    "\n",
    "1. Sempre devem começar com uma letra, nunca com números.<br>\n",
    "Exemplo: nome, numero\n",
    "2. Os próximos caracteres podem ser números.<br>\n",
    "Exemplo: nome1, nota2, n1.\n",
    "3. Não deve haver caracteres especiais.<br>\n",
    "Exemplo: cotação, @teste.\n",
    "4. Não deve haver espaços em branco.<br>\n",
    "Exemplo: primeiro_nome<br>\n",
    "Quando tem a necessidade de criar uma variável com nome duplo, utilizar o padrão 'Camel Case': a primeira letra da primeira palavra em minúsculo e a primeira letra das próximas palavras em maiúsculo.<br>\n",
    "Exemplo: primeiroNome.\n",
    "5. Não pode ser uma palavra reservada<br>\n",
    "Exemplo: inicio."
   ]
  },
  {
   "cell_type": "markdown",
   "metadata": {},
   "source": [
    "## Tipos de variáveis\n",
    "\n",
    "1. String\n",
    "2. Lógico\n",
    "3. Caracter: um único caracter\n",
    "4. Real\n",
    "5. Inteiro"
   ]
  },
  {
   "cell_type": "markdown",
   "metadata": {},
   "source": [
    "## Identação do Código\n",
    "\n",
    "Uso de espaços ou tabulaões para organizar e estruturar o código-fonte de um programa."
   ]
  }
 ],
 "metadata": {
  "language_info": {
   "name": "python"
  },
  "orig_nbformat": 4
 },
 "nbformat": 4,
 "nbformat_minor": 2
}
