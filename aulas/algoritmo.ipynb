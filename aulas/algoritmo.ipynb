{
 "cells": [
  {
   "cell_type": "markdown",
   "metadata": {},
   "source": [
    "# Curso de Lógica de Programação (11.09.24)\n",
    "\n",
    "1. O que é um algoritmo?\n",
    "\n",
    "2.  Para que serve um algoritmo?\n",
    "\n",
    "3.  Algoritmo computacional"
   ]
  }
 ],
 "metadata": {
  "language_info": {
   "name": "python"
  },
  "orig_nbformat": 4
 },
 "nbformat": 4,
 "nbformat_minor": 2
}
